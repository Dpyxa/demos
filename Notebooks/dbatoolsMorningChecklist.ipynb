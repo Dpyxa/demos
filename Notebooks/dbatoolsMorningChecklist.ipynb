{
    "metadata": {
        "kernelspec": {
            "name": "powershell",
            "display_name": "PowerShell"
        },
        "language_info": {
            "name": "powershell",
            "codemirror_mode": "shell",
            "mimetype": "text/x-sh",
            "file_extension": ".ps1"
        }
    },
    "nbformat_minor": 2,
    "nbformat": 4,
    "cells": [
        {
            "cell_type": "markdown",
            "source": [
                "# dbatools Morning Checklist"
            ],
            "metadata": {
                "azdata_cell_guid": "cfedcade-dc5a-4cfc-ba5e-9ccb979ad0f7"
            }
        },
        {
            "cell_type": "markdown",
            "source": [
                "Here's a sample PowerShell notebook showing how you can use dbatools to do a quick morning check in of your SQL Server estate."
            ],
            "metadata": {
                "azdata_cell_guid": "4c9cde0a-f9cf-411c-b1b2-cc44b66ea2e5"
            }
        },
        {
            "cell_type": "markdown",
            "source": [
                "## First let's get setup\r\n",
                "- Import the dbatools module\r\n",
                "- Store our list of servers in a variable\r\n",
                "  - I'm using `Get-DbaRegisteredServer` to use my registered server list, but you could also manually specify server names or use `Import-Csv` to get them from a CSV file.\r\n",
                ""
            ],
            "metadata": {
                "azdata_cell_guid": "c038eeba-2ab3-49cf-b9ac-0f8dfe2f4a16"
            }
        },
        {
            "cell_type": "code",
            "source": [
                "Import-Module dbatools\r\n",
                "\r\n",
                "$servers = Get-DbaRegisteredServer -Group Sqlserver\r\n",
                "\r\n",
                "$servers"
            ],
            "metadata": {
                "azdata_cell_guid": "68eaf790-8b9a-494e-ad93-e707fa7570cd",
                "tags": []
            },
            "outputs": [
                {
                    "output_type": "stream",
                    "name": "stdout",
                    "text": "ve\\Documents\\WindowsPowerShell\\Modules\\dbatools\\1.0.74\\allcommands.ps1:32842 char:33\n+ ...              $tempserver.ConnectionString = $adsconn.ConnectionString\n+                  ~~~~~~~~~~~~~~~~~~~~~~~~~~~~~~~~~~~~~~~~~~~~~~~~~~~~~~~~\n    + CategoryInfo          : NotSpecified: (:) [], SetValueInvocationException\n    + FullyQualifiedErrorId : ExceptionWhenSetting\n \nException setting \"ConnectionString\": \"Format of the initialization string does not conform to specification starting \nat index 58.\"\nAt C:\\Users\\jpomf\\OneDrive\\Documents\\WindowsPowerShell\\Modules\\dbatools\\1.0.74\\allcommands.ps1:32842 char:33\n+ ...              $tempserver.ConnectionString = $adsconn.ConnectionString\n+                  ~~~~~~~~~~~~~~~~~~~~~~~~~~~~~~~~~~~~~~~~~~~~~~~~~~~~~~~~\n    + CategoryInfo          : NotSpecified: (:) [], SetValueInvocationException\n    + FullyQualifiedErrorId : ExceptionWhenSetting\n \n\nName   ServerName Group     Description Source             \n----   ---------- -----     ----------- ------             \nmssql1 mssql1     SqlServer             Local Server Groups\nmssql2 mssql2     SqlServer             Local Server Groups\n\n\n"
                }
            ],
            "execution_count": 3
        },
        {
            "cell_type": "markdown",
            "source": [
                "## 1. Check SQL Server Backups"
            ],
            "metadata": {
                "azdata_cell_guid": "89e1614f-a6a8-4684-8fce-9a5f69002b1e"
            }
        },
        {
            "cell_type": "markdown",
            "source": [
                "View last backup dates for all SQL Server databases."
            ],
            "metadata": {
                "azdata_cell_guid": "f8e328ab-18fc-4995-a7ef-efc948d888c1"
            }
        },
        {
            "cell_type": "code",
            "source": [
                "Get-DbaLastBackup -SqlInstance $servers | \r\n",
                "Format-Table SqlInstance, Database, LastFullBackup, LastDiffBackup, LastLogBackup"
            ],
            "metadata": {
                "azdata_cell_guid": "e40bc4cf-aff9-464c-9323-0feb1eaea79b"
            },
            "outputs": [
                {
                    "output_type": "stream",
                    "name": "stdout",
                    "text": "ance $servers | \n>> Format-Table SqlInstance, Database, LastFullBackup, LastDiffBackup, LastLogBackup }\n>> \n\nSqlInstance Database           LastFullBackup          LastDiffBackup LastLogBackup\n----------- --------           --------------          -------------- -------------\nmssql1      AdventureWorks2017 2019-12-08 15:50:46.000                             \nmssql1      DatabaseAdmin                                                          \nmssql1      master                                                                 \nmssql1      model                                                                  \nmssql1      msdb                                                                   \nmssql2      AdventureWorks2019                                                     \nmssql2      master             2019-12-08 15:45:26.000                             \nmssql2      model              2019-12-08 15:45:29.000 2019-12-08 ... 2019-12-08...\nmssql2      msdb               2019-12-08 15:45:32.000 2019-12-08 ...              \n\n\n"
                }
            ],
            "execution_count": 6
        },
        {
            "cell_type": "markdown",
            "source": [
                "You could also use the PowerShell `Where-Object` to filter out the databases that meet your backup requirements. \r\n",
                "\r\n",
                "In this instance:\r\n",
                " - Full backup within the last 7 days\r\n",
                " - Differential backup within the last 1 day\r\n",
                " - Transaction log backup within the last hour"
            ],
            "metadata": {
                "azdata_cell_guid": "5092aaab-245f-4dd5-b386-327ce97e414d"
            }
        },
        {
            "cell_type": "code",
            "source": [
                "Get-DbaLastBackup -SqlInstance $servers | \r\n",
                "Where-Object {($_.LastFullBackup.Date -lt ((Get-Date).AddDays(-7))) `\r\n",
                "-and ($_.LastDiffBackup.Date -lt ((Get-Date).AddDays(-1))) `\r\n",
                "-and ($_.RecoveryModel -eq 'Full' -and $_.LastLogBackup.Date -lt ((Get-Date).AddHours(-1))) } |\r\n",
                "Format-Table SqlInstance, Database, LastFullBackup, LastDiffBackup, LastLogBackup, RecoveryModel -AutoSize"
            ],
            "metadata": {
                "azdata_cell_guid": "60041955-9c3d-4b85-be09-2ca763a6761b",
                "tags": []
            },
            "outputs": [],
            "execution_count": 7
        },
        {
            "cell_type": "markdown",
            "source": [
                "## 2. Check Last Good DBCC Checks"
            ],
            "metadata": {
                "azdata_cell_guid": "5e174148-a378-4b7a-a137-cf63cdbbe61d"
            }
        },
        {
            "cell_type": "code",
            "source": [
                "Get-DbaLastGoodCheckDb -SqlInstance $servers |\r\n",
                "Select-Object SqlInstance, Database, DaysSinceLastGoodCheckDb, Status, DataPurityEnabled | \r\n",
                "Where-Object Status -ne 'OK' |\r\n",
                "Format-Table    "
            ],
            "metadata": {
                "azdata_cell_guid": "2739d950-90cd-4c33-b0a5-61a5dfcef478"
            },
            "outputs": [],
            "execution_count": 12
        },
        {
            "cell_type": "markdown",
            "source": [
                "## 3. Check for Failed Jobs"
            ],
            "metadata": {
                "azdata_cell_guid": "15da6aeb-9c9e-4da1-b361-0f41eefbe664"
            }
        },
        {
            "cell_type": "code",
            "source": [
                "Get-DbaAgentJob -SqlInstance $servers -ExcludeDisabledJobs | \n",
                "Where-Object LastRunOutcome -ne 'Succeeded' | \n",
                "Format-Table SqlInstance, Name, LastRunDate, LastRunOutcome"
            ],
            "metadata": {
                "azdata_cell_guid": "593055de-fcd2-4139-8585-353e25bf1b8c"
            },
            "outputs": [],
            "execution_count": 13
        },
        {
            "cell_type": "markdown",
            "source": [
                "## 4. Check SQL Server Error Log Messages"
            ],
            "metadata": {
                "azdata_cell_guid": "86a78a5e-8439-437b-ab17-c5f62a93f645"
            }
        },
        {
            "cell_type": "code",
            "source": [
                "Get-DbaErrorLog -SqlInstance $servers -After (get-date).AddDays(-1) |\r\n",
                "Format-Table SqlInstance, SqlInstance, Source, Text"
            ],
            "metadata": {
                "azdata_cell_guid": "d3d6b764-bf15-4565-b644-325f7df7c72d"
            },
            "outputs": [],
            "execution_count": 14
        },
        {
            "cell_type": "code",
            "source": [
                "Get-DbaErrorLog -SqlInstance $servers -After (get-date).AddDays(-1) -Text \"Login Failed\" |\r\n",
                "Format-Table SqlInstance, SqlInstance, Source, Text"
            ],
            "metadata": {
                "azdata_cell_guid": "dea56453-9ad5-4781-adf5-7e40e1957738"
            },
            "outputs": [],
            "execution_count": 16
        },
        {
            "cell_type": "markdown",
            "source": [
                "## 5. Add your custom checks\r\n",
                "\r\n",
                "Perhaps in your environment you have additional things to check\r\n",
                "\r\n",
                "- **Get-DbaAvailabilityGroup** - Check your availability groups and determine which node is primary \r\n",
                "- **Get-DbaDiskSpace** - Check the available disk space on your servers and ensure you're not close to running out\r\n",
                "- **Test-DbaDbOwner** - Make sure all your databases are owned by sa, or specify an owner with the `-TargetLogin` Parameter\r\n",
                "- **Test-DbaDbRecoveryModel** - Check your database recovery models are as expected, including not in pseudo simple mode\r\n",
                "- **Test-DbaRepLatency** - Test replication latency with tracer tokens\r\n",
                ""
            ],
            "metadata": {
                "azdata_cell_guid": "917403ed-9cb7-4f3c-9d04-6e6802a3c18e"
            }
        }
    ]
}