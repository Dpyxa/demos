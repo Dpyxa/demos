{
    "metadata": {
        "kernelspec": {
            "name": "SQL",
            "display_name": "SQL",
            "language": "sql"
        },
        "language_info": {
            "name": "sql",
            "version": ""
        }
    },
    "nbformat_minor": 2,
    "nbformat": 4,
    "cells": [
        {
            "cell_type": "markdown",
            "source": "# 04 - Data Masking",
            "metadata": {}
        },
        {
            "cell_type": "markdown",
            "source": "## Scenario: \r\n\r\nYour testers **have** to have production data to test against.\r\n\r\n1. Restore Production database to Test environment\r\n1. Mask sensitive data!",
            "metadata": {}
        },
        {
            "cell_type": "code",
            "source": "USE AdventureWorks2017;\r\nGO\r\nSELECT TOP 10 *\r\nFROM HumanResources.Employee",
            "metadata": {},
            "outputs": [
                {
                    "output_type": "display_data",
                    "data": {
                        "text/html": "Commands completed successfully."
                    },
                    "metadata": {}
                },
                {
                    "output_type": "display_data",
                    "data": {
                        "text/html": "Total execution time: 00:00:00.0035487"
                    },
                    "metadata": {}
                },
                {
                    "output_type": "display_data",
                    "data": {
                        "text/html": "(10 rows affected)"
                    },
                    "metadata": {}
                },
                {
                    "output_type": "display_data",
                    "data": {
                        "text/html": "Total execution time: 00:00:00.0292492"
                    },
                    "metadata": {}
                },
                {
                    "output_type": "execute_result",
                    "metadata": {},
                    "execution_count": 4,
                    "data": {
                        "application/vnd.dataresource+json": {
                            "schema": {
                                "fields": [
                                    {
                                        "name": "BusinessEntityID"
                                    },
                                    {
                                        "name": "NationalIDNumber"
                                    },
                                    {
                                        "name": "LoginID"
                                    },
                                    {
                                        "name": "OrganizationNode"
                                    },
                                    {
                                        "name": "OrganizationLevel"
                                    },
                                    {
                                        "name": "JobTitle"
                                    },
                                    {
                                        "name": "BirthDate"
                                    },
                                    {
                                        "name": "MaritalStatus"
                                    },
                                    {
                                        "name": "Gender"
                                    },
                                    {
                                        "name": "HireDate"
                                    },
                                    {
                                        "name": "SalariedFlag"
                                    },
                                    {
                                        "name": "VacationHours"
                                    },
                                    {
                                        "name": "SickLeaveHours"
                                    },
                                    {
                                        "name": "CurrentFlag"
                                    },
                                    {
                                        "name": "rowguid"
                                    },
                                    {
                                        "name": "ModifiedDate"
                                    }
                                ]
                            },
                            "data": [
                                {
                                    "0": "1",
                                    "1": "562259",
                                    "2": "Halle_Gleichner11",
                                    "3": "NULL",
                                    "4": "NULL",
                                    "5": "Direct Infrastructure Officer",
                                    "6": "1980-05-17",
                                    "7": "S",
                                    "8": "M",
                                    "9": "2009-01-14",
                                    "10": "1",
                                    "11": "99",
                                    "12": "69",
                                    "13": "1",
                                    "14": "f01251e5-96a3-448d-981e-0f99d789110d",
                                    "15": "2014-06-30 00:00:00.000"
                                },
                                {
                                    "0": "2",
                                    "1": "984025",
                                    "2": "Chris_Schaden32",
                                    "3": "0x58",
                                    "4": "1",
                                    "5": "District Usability Designer",
                                    "6": "1962-09-22",
                                    "7": "S",
                                    "8": "F",
                                    "9": "2008-01-31",
                                    "10": "1",
                                    "11": "1",
                                    "12": "20",
                                    "13": "1",
                                    "14": "45e8f437-670d-4409-93cb-f9424a40d6ee",
                                    "15": "2014-06-30 00:00:00.000"
                                },
                                {
                                    "0": "3",
                                    "1": "368273",
                                    "2": "Fabian_Hagenes94",
                                    "3": "0x5AC0",
                                    "4": "2",
                                    "5": "Regional Intranet Director",
                                    "6": "1986-12-12",
                                    "7": "M",
                                    "8": "M",
                                    "9": "2007-11-11",
                                    "10": "1",
                                    "11": "2",
                                    "12": "21",
                                    "13": "1",
                                    "14": "9bbbfb2c-efbb-4217-9ab7-f97689328841",
                                    "15": "2014-06-30 00:00:00.000"
                                },
                                {
                                    "0": "4",
                                    "1": "305793",
                                    "2": "Delilah_Bruen9",
                                    "3": "0x5AD6",
                                    "4": "3",
                                    "5": "Direct Infrastructure Supervisor",
                                    "6": "1976-12-07",
                                    "7": "S",
                                    "8": "M",
                                    "9": "2007-12-05",
                                    "10": "0",
                                    "11": "48",
                                    "12": "80",
                                    "13": "1",
                                    "14": "59747955-87b8-443f-8ed4-f8ad3afdf3a9",
                                    "15": "2014-06-30 00:00:00.000"
                                },
                                {
                                    "0": "5",
                                    "1": "878225",
                                    "2": "Sandra55",
                                    "3": "0x5ADA",
                                    "4": "3",
                                    "5": "Senior Group Engineer",
                                    "6": "1992-09-10",
                                    "7": "M",
                                    "8": "F",
                                    "9": "2008-01-06",
                                    "10": "1",
                                    "11": "5",
                                    "12": "22",
                                    "13": "1",
                                    "14": "ec84ae09-f9b8-4a15-b4a9-6ccbab919b08",
                                    "15": "2014-06-30 00:00:00.000"
                                },
                                {
                                    "0": "6",
                                    "1": "800584",
                                    "2": "Vanessa_Kiehn28",
                                    "3": "0x5ADE",
                                    "4": "3",
                                    "5": "Direct Markets Director",
                                    "6": "1991-08-20",
                                    "7": "M",
                                    "8": "M",
                                    "9": "2008-01-24",
                                    "10": "1",
                                    "11": "6",
                                    "12": "23",
                                    "13": "1",
                                    "14": "e39056f1-9cd5-478d-8945-14aca7fbdcdd",
                                    "15": "2014-06-30 00:00:00.000"
                                },
                                {
                                    "0": "7",
                                    "1": "880845",
                                    "2": "Rupert.Zieme",
                                    "3": "0x5AE1",
                                    "4": "3",
                                    "5": "Legacy Brand Assistant",
                                    "6": "1952-08-26",
                                    "7": "M",
                                    "8": "M",
                                    "9": "2009-02-08",
                                    "10": "1",
                                    "11": "61",
                                    "12": "50",
                                    "13": "1",
                                    "14": "4f46deca-ef01-41fd-9829-0adab368e431",
                                    "15": "2014-06-30 00:00:00.000"
                                },
                                {
                                    "0": "8",
                                    "1": "349862",
                                    "2": "Sylvan_Stoltenberg",
                                    "3": "0x5AE158",
                                    "4": "4",
                                    "5": "International Group Developer",
                                    "6": "1953-06-06",
                                    "7": "S",
                                    "8": "F",
                                    "9": "2008-12-29",
                                    "10": "1",
                                    "11": "62",
                                    "12": "51",
                                    "13": "1",
                                    "14": "31112635-663b-4018-b4a2-a685c0bf48a4",
                                    "15": "2014-06-30 00:00:00.000"
                                },
                                {
                                    "0": "9",
                                    "1": "335872",
                                    "2": "Erwin_Labadie11",
                                    "3": "0x5AE168",
                                    "4": "4",
                                    "5": "Regional Data Analyst",
                                    "6": "1960-02-02",
                                    "7": "M",
                                    "8": "F",
                                    "9": "2009-01-16",
                                    "10": "1",
                                    "11": "63",
                                    "12": "51",
                                    "13": "1",
                                    "14": "50b6cdc6-7570-47ef-9570-48a64b5f2ecf",
                                    "15": "2014-06-30 00:00:00.000"
                                },
                                {
                                    "0": "10",
                                    "1": "295212",
                                    "2": "Markus.King79",
                                    "3": "0x5AE178",
                                    "4": "4",
                                    "5": "Dynamic Accountability Director",
                                    "6": "1965-12-01",
                                    "7": "M",
                                    "8": "M",
                                    "9": "2009-05-03",
                                    "10": "1",
                                    "11": "16",
                                    "12": "64",
                                    "13": "1",
                                    "14": "eaa43680-5571-40cb-ab1a-3bf68f04459e",
                                    "15": "2014-06-30 00:00:00.000"
                                }
                            ]
                        },
                        "text/html": "<table><tr><th>BusinessEntityID</th><th>NationalIDNumber</th><th>LoginID</th><th>OrganizationNode</th><th>OrganizationLevel</th><th>JobTitle</th><th>BirthDate</th><th>MaritalStatus</th><th>Gender</th><th>HireDate</th><th>SalariedFlag</th><th>VacationHours</th><th>SickLeaveHours</th><th>CurrentFlag</th><th>rowguid</th><th>ModifiedDate</th></tr><tr><td>1</td><td>562259</td><td>Halle_Gleichner11</td><td>NULL</td><td>NULL</td><td>Direct Infrastructure Officer</td><td>1980-05-17</td><td>S</td><td>M</td><td>2009-01-14</td><td>1</td><td>99</td><td>69</td><td>1</td><td>f01251e5-96a3-448d-981e-0f99d789110d</td><td>2014-06-30 00:00:00.000</td></tr><tr><td>2</td><td>984025</td><td>Chris_Schaden32</td><td>0x58</td><td>1</td><td>District Usability Designer</td><td>1962-09-22</td><td>S</td><td>F</td><td>2008-01-31</td><td>1</td><td>1</td><td>20</td><td>1</td><td>45e8f437-670d-4409-93cb-f9424a40d6ee</td><td>2014-06-30 00:00:00.000</td></tr><tr><td>3</td><td>368273</td><td>Fabian_Hagenes94</td><td>0x5AC0</td><td>2</td><td>Regional Intranet Director</td><td>1986-12-12</td><td>M</td><td>M</td><td>2007-11-11</td><td>1</td><td>2</td><td>21</td><td>1</td><td>9bbbfb2c-efbb-4217-9ab7-f97689328841</td><td>2014-06-30 00:00:00.000</td></tr><tr><td>4</td><td>305793</td><td>Delilah_Bruen9</td><td>0x5AD6</td><td>3</td><td>Direct Infrastructure Supervisor</td><td>1976-12-07</td><td>S</td><td>M</td><td>2007-12-05</td><td>0</td><td>48</td><td>80</td><td>1</td><td>59747955-87b8-443f-8ed4-f8ad3afdf3a9</td><td>2014-06-30 00:00:00.000</td></tr><tr><td>5</td><td>878225</td><td>Sandra55</td><td>0x5ADA</td><td>3</td><td>Senior Group Engineer</td><td>1992-09-10</td><td>M</td><td>F</td><td>2008-01-06</td><td>1</td><td>5</td><td>22</td><td>1</td><td>ec84ae09-f9b8-4a15-b4a9-6ccbab919b08</td><td>2014-06-30 00:00:00.000</td></tr><tr><td>6</td><td>800584</td><td>Vanessa_Kiehn28</td><td>0x5ADE</td><td>3</td><td>Direct Markets Director</td><td>1991-08-20</td><td>M</td><td>M</td><td>2008-01-24</td><td>1</td><td>6</td><td>23</td><td>1</td><td>e39056f1-9cd5-478d-8945-14aca7fbdcdd</td><td>2014-06-30 00:00:00.000</td></tr><tr><td>7</td><td>880845</td><td>Rupert.Zieme</td><td>0x5AE1</td><td>3</td><td>Legacy Brand Assistant</td><td>1952-08-26</td><td>M</td><td>M</td><td>2009-02-08</td><td>1</td><td>61</td><td>50</td><td>1</td><td>4f46deca-ef01-41fd-9829-0adab368e431</td><td>2014-06-30 00:00:00.000</td></tr><tr><td>8</td><td>349862</td><td>Sylvan_Stoltenberg</td><td>0x5AE158</td><td>4</td><td>International Group Developer</td><td>1953-06-06</td><td>S</td><td>F</td><td>2008-12-29</td><td>1</td><td>62</td><td>51</td><td>1</td><td>31112635-663b-4018-b4a2-a685c0bf48a4</td><td>2014-06-30 00:00:00.000</td></tr><tr><td>9</td><td>335872</td><td>Erwin_Labadie11</td><td>0x5AE168</td><td>4</td><td>Regional Data Analyst</td><td>1960-02-02</td><td>M</td><td>F</td><td>2009-01-16</td><td>1</td><td>63</td><td>51</td><td>1</td><td>50b6cdc6-7570-47ef-9570-48a64b5f2ecf</td><td>2014-06-30 00:00:00.000</td></tr><tr><td>10</td><td>295212</td><td>Markus.King79</td><td>0x5AE178</td><td>4</td><td>Dynamic Accountability Director</td><td>1965-12-01</td><td>M</td><td>M</td><td>2009-05-03</td><td>1</td><td>16</td><td>64</td><td>1</td><td>eaa43680-5571-40cb-ab1a-3bf68f04459e</td><td>2014-06-30 00:00:00.000</td></tr></table>"
                    }
                }
            ],
            "execution_count": 2
        },
        {
            "cell_type": "markdown",
            "source": "*Go mask the data*",
            "metadata": {}
        },
        {
            "cell_type": "code",
            "source": "USE AdventureWorks2017;\r\nGO\r\nSELECT TOP 10 *\r\nFROM HumanResources.Employee",
            "metadata": {},
            "outputs": [
                {
                    "output_type": "display_data",
                    "data": {
                        "text/html": "Commands completed successfully."
                    },
                    "metadata": {}
                },
                {
                    "output_type": "display_data",
                    "data": {
                        "text/html": "Total execution time: 00:00:00.0034094"
                    },
                    "metadata": {}
                },
                {
                    "output_type": "display_data",
                    "data": {
                        "text/html": "(10 rows affected)"
                    },
                    "metadata": {}
                },
                {
                    "output_type": "display_data",
                    "data": {
                        "text/html": "Total execution time: 00:00:00.0352113"
                    },
                    "metadata": {}
                },
                {
                    "output_type": "execute_result",
                    "metadata": {},
                    "execution_count": 3,
                    "data": {
                        "application/vnd.dataresource+json": {
                            "schema": {
                                "fields": [
                                    {
                                        "name": "BusinessEntityID"
                                    },
                                    {
                                        "name": "NationalIDNumber"
                                    },
                                    {
                                        "name": "LoginID"
                                    },
                                    {
                                        "name": "OrganizationNode"
                                    },
                                    {
                                        "name": "OrganizationLevel"
                                    },
                                    {
                                        "name": "JobTitle"
                                    },
                                    {
                                        "name": "BirthDate"
                                    },
                                    {
                                        "name": "MaritalStatus"
                                    },
                                    {
                                        "name": "Gender"
                                    },
                                    {
                                        "name": "HireDate"
                                    },
                                    {
                                        "name": "SalariedFlag"
                                    },
                                    {
                                        "name": "VacationHours"
                                    },
                                    {
                                        "name": "SickLeaveHours"
                                    },
                                    {
                                        "name": "CurrentFlag"
                                    },
                                    {
                                        "name": "rowguid"
                                    },
                                    {
                                        "name": "ModifiedDate"
                                    }
                                ]
                            },
                            "data": [
                                {
                                    "0": "1",
                                    "1": "562259",
                                    "2": "Halle_Gleichner11",
                                    "3": "NULL",
                                    "4": "NULL",
                                    "5": "Direct Infrastructure Officer",
                                    "6": "1980-05-17",
                                    "7": "S",
                                    "8": "M",
                                    "9": "2009-01-14",
                                    "10": "1",
                                    "11": "99",
                                    "12": "69",
                                    "13": "1",
                                    "14": "f01251e5-96a3-448d-981e-0f99d789110d",
                                    "15": "2014-06-30 00:00:00.000"
                                },
                                {
                                    "0": "2",
                                    "1": "984025",
                                    "2": "Chris_Schaden32",
                                    "3": "0x58",
                                    "4": "1",
                                    "5": "District Usability Designer",
                                    "6": "1962-09-22",
                                    "7": "S",
                                    "8": "F",
                                    "9": "2008-01-31",
                                    "10": "1",
                                    "11": "1",
                                    "12": "20",
                                    "13": "1",
                                    "14": "45e8f437-670d-4409-93cb-f9424a40d6ee",
                                    "15": "2014-06-30 00:00:00.000"
                                },
                                {
                                    "0": "3",
                                    "1": "368273",
                                    "2": "Fabian_Hagenes94",
                                    "3": "0x5AC0",
                                    "4": "2",
                                    "5": "Regional Intranet Director",
                                    "6": "1986-12-12",
                                    "7": "M",
                                    "8": "M",
                                    "9": "2007-11-11",
                                    "10": "1",
                                    "11": "2",
                                    "12": "21",
                                    "13": "1",
                                    "14": "9bbbfb2c-efbb-4217-9ab7-f97689328841",
                                    "15": "2014-06-30 00:00:00.000"
                                },
                                {
                                    "0": "4",
                                    "1": "305793",
                                    "2": "Delilah_Bruen9",
                                    "3": "0x5AD6",
                                    "4": "3",
                                    "5": "Direct Infrastructure Supervisor",
                                    "6": "1976-12-07",
                                    "7": "S",
                                    "8": "M",
                                    "9": "2007-12-05",
                                    "10": "0",
                                    "11": "48",
                                    "12": "80",
                                    "13": "1",
                                    "14": "59747955-87b8-443f-8ed4-f8ad3afdf3a9",
                                    "15": "2014-06-30 00:00:00.000"
                                },
                                {
                                    "0": "5",
                                    "1": "878225",
                                    "2": "Sandra55",
                                    "3": "0x5ADA",
                                    "4": "3",
                                    "5": "Senior Group Engineer",
                                    "6": "1992-09-10",
                                    "7": "M",
                                    "8": "F",
                                    "9": "2008-01-06",
                                    "10": "1",
                                    "11": "5",
                                    "12": "22",
                                    "13": "1",
                                    "14": "ec84ae09-f9b8-4a15-b4a9-6ccbab919b08",
                                    "15": "2014-06-30 00:00:00.000"
                                },
                                {
                                    "0": "6",
                                    "1": "800584",
                                    "2": "Vanessa_Kiehn28",
                                    "3": "0x5ADE",
                                    "4": "3",
                                    "5": "Direct Markets Director",
                                    "6": "1991-08-20",
                                    "7": "M",
                                    "8": "M",
                                    "9": "2008-01-24",
                                    "10": "1",
                                    "11": "6",
                                    "12": "23",
                                    "13": "1",
                                    "14": "e39056f1-9cd5-478d-8945-14aca7fbdcdd",
                                    "15": "2014-06-30 00:00:00.000"
                                },
                                {
                                    "0": "7",
                                    "1": "880845",
                                    "2": "Rupert.Zieme",
                                    "3": "0x5AE1",
                                    "4": "3",
                                    "5": "Legacy Brand Assistant",
                                    "6": "1952-08-26",
                                    "7": "M",
                                    "8": "M",
                                    "9": "2009-02-08",
                                    "10": "1",
                                    "11": "61",
                                    "12": "50",
                                    "13": "1",
                                    "14": "4f46deca-ef01-41fd-9829-0adab368e431",
                                    "15": "2014-06-30 00:00:00.000"
                                },
                                {
                                    "0": "8",
                                    "1": "349862",
                                    "2": "Sylvan_Stoltenberg",
                                    "3": "0x5AE158",
                                    "4": "4",
                                    "5": "International Group Developer",
                                    "6": "1953-06-06",
                                    "7": "S",
                                    "8": "F",
                                    "9": "2008-12-29",
                                    "10": "1",
                                    "11": "62",
                                    "12": "51",
                                    "13": "1",
                                    "14": "31112635-663b-4018-b4a2-a685c0bf48a4",
                                    "15": "2014-06-30 00:00:00.000"
                                },
                                {
                                    "0": "9",
                                    "1": "335872",
                                    "2": "Erwin_Labadie11",
                                    "3": "0x5AE168",
                                    "4": "4",
                                    "5": "Regional Data Analyst",
                                    "6": "1960-02-02",
                                    "7": "M",
                                    "8": "F",
                                    "9": "2009-01-16",
                                    "10": "1",
                                    "11": "63",
                                    "12": "51",
                                    "13": "1",
                                    "14": "50b6cdc6-7570-47ef-9570-48a64b5f2ecf",
                                    "15": "2014-06-30 00:00:00.000"
                                },
                                {
                                    "0": "10",
                                    "1": "295212",
                                    "2": "Markus.King79",
                                    "3": "0x5AE178",
                                    "4": "4",
                                    "5": "Dynamic Accountability Director",
                                    "6": "1965-12-01",
                                    "7": "M",
                                    "8": "M",
                                    "9": "2009-05-03",
                                    "10": "1",
                                    "11": "16",
                                    "12": "64",
                                    "13": "1",
                                    "14": "eaa43680-5571-40cb-ab1a-3bf68f04459e",
                                    "15": "2014-06-30 00:00:00.000"
                                }
                            ]
                        },
                        "text/html": "<table><tr><th>BusinessEntityID</th><th>NationalIDNumber</th><th>LoginID</th><th>OrganizationNode</th><th>OrganizationLevel</th><th>JobTitle</th><th>BirthDate</th><th>MaritalStatus</th><th>Gender</th><th>HireDate</th><th>SalariedFlag</th><th>VacationHours</th><th>SickLeaveHours</th><th>CurrentFlag</th><th>rowguid</th><th>ModifiedDate</th></tr><tr><td>1</td><td>562259</td><td>Halle_Gleichner11</td><td>NULL</td><td>NULL</td><td>Direct Infrastructure Officer</td><td>1980-05-17</td><td>S</td><td>M</td><td>2009-01-14</td><td>1</td><td>99</td><td>69</td><td>1</td><td>f01251e5-96a3-448d-981e-0f99d789110d</td><td>2014-06-30 00:00:00.000</td></tr><tr><td>2</td><td>984025</td><td>Chris_Schaden32</td><td>0x58</td><td>1</td><td>District Usability Designer</td><td>1962-09-22</td><td>S</td><td>F</td><td>2008-01-31</td><td>1</td><td>1</td><td>20</td><td>1</td><td>45e8f437-670d-4409-93cb-f9424a40d6ee</td><td>2014-06-30 00:00:00.000</td></tr><tr><td>3</td><td>368273</td><td>Fabian_Hagenes94</td><td>0x5AC0</td><td>2</td><td>Regional Intranet Director</td><td>1986-12-12</td><td>M</td><td>M</td><td>2007-11-11</td><td>1</td><td>2</td><td>21</td><td>1</td><td>9bbbfb2c-efbb-4217-9ab7-f97689328841</td><td>2014-06-30 00:00:00.000</td></tr><tr><td>4</td><td>305793</td><td>Delilah_Bruen9</td><td>0x5AD6</td><td>3</td><td>Direct Infrastructure Supervisor</td><td>1976-12-07</td><td>S</td><td>M</td><td>2007-12-05</td><td>0</td><td>48</td><td>80</td><td>1</td><td>59747955-87b8-443f-8ed4-f8ad3afdf3a9</td><td>2014-06-30 00:00:00.000</td></tr><tr><td>5</td><td>878225</td><td>Sandra55</td><td>0x5ADA</td><td>3</td><td>Senior Group Engineer</td><td>1992-09-10</td><td>M</td><td>F</td><td>2008-01-06</td><td>1</td><td>5</td><td>22</td><td>1</td><td>ec84ae09-f9b8-4a15-b4a9-6ccbab919b08</td><td>2014-06-30 00:00:00.000</td></tr><tr><td>6</td><td>800584</td><td>Vanessa_Kiehn28</td><td>0x5ADE</td><td>3</td><td>Direct Markets Director</td><td>1991-08-20</td><td>M</td><td>M</td><td>2008-01-24</td><td>1</td><td>6</td><td>23</td><td>1</td><td>e39056f1-9cd5-478d-8945-14aca7fbdcdd</td><td>2014-06-30 00:00:00.000</td></tr><tr><td>7</td><td>880845</td><td>Rupert.Zieme</td><td>0x5AE1</td><td>3</td><td>Legacy Brand Assistant</td><td>1952-08-26</td><td>M</td><td>M</td><td>2009-02-08</td><td>1</td><td>61</td><td>50</td><td>1</td><td>4f46deca-ef01-41fd-9829-0adab368e431</td><td>2014-06-30 00:00:00.000</td></tr><tr><td>8</td><td>349862</td><td>Sylvan_Stoltenberg</td><td>0x5AE158</td><td>4</td><td>International Group Developer</td><td>1953-06-06</td><td>S</td><td>F</td><td>2008-12-29</td><td>1</td><td>62</td><td>51</td><td>1</td><td>31112635-663b-4018-b4a2-a685c0bf48a4</td><td>2014-06-30 00:00:00.000</td></tr><tr><td>9</td><td>335872</td><td>Erwin_Labadie11</td><td>0x5AE168</td><td>4</td><td>Regional Data Analyst</td><td>1960-02-02</td><td>M</td><td>F</td><td>2009-01-16</td><td>1</td><td>63</td><td>51</td><td>1</td><td>50b6cdc6-7570-47ef-9570-48a64b5f2ecf</td><td>2014-06-30 00:00:00.000</td></tr><tr><td>10</td><td>295212</td><td>Markus.King79</td><td>0x5AE178</td><td>4</td><td>Dynamic Accountability Director</td><td>1965-12-01</td><td>M</td><td>M</td><td>2009-05-03</td><td>1</td><td>16</td><td>64</td><td>1</td><td>eaa43680-5571-40cb-ab1a-3bf68f04459e</td><td>2014-06-30 00:00:00.000</td></tr></table>"
                    }
                }
            ],
            "execution_count": 3
        },
        {
            "cell_type": "markdown",
            "source": "",
            "metadata": {}
        }
    ]
}