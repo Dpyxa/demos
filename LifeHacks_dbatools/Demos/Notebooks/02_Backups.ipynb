{
    "metadata": {
        "kernelspec": {
            "name": "SQL",
            "display_name": "SQL",
            "language": "sql"
        },
        "language_info": {
            "name": "sql",
            "version": ""
        }
    },
    "nbformat_minor": 2,
    "nbformat": 4,
    "cells": [
        {
            "cell_type": "markdown",
            "source": [
                "# 02 - Test Your Backups"
            ],
            "metadata": {
                "azdata_cell_guid": "7c460e1c-48f6-481f-b0f7-66da69836e7d"
            }
        },
        {
            "cell_type": "markdown",
            "source": [
                "Record your test restore results straight into a SQL Server table"
            ],
            "metadata": {
                "azdata_cell_guid": "ee7a73d1-dd4c-4899-bc1e-7dcfbb238e20"
            }
        },
        {
            "cell_type": "code",
            "source": [
                "Use DatabaseAdmin\r\n",
                "\r\n",
                "Select *\r\n",
                "From TestRestore"
            ],
            "metadata": {
                "azdata_cell_guid": "71247727-ed46-4c48-a196-7b6a99cb4ece"
            },
            "outputs": [
                {
                    "output_type": "display_data",
                    "data": {
                        "text/html": "Commands completed successfully."
                    },
                    "metadata": {}
                },
                {
                    "output_type": "display_data",
                    "data": {
                        "text/html": "Total execution time: 00:00:00.079"
                    },
                    "metadata": {}
                },
                {
                    "output_type": "execute_result",
                    "metadata": {},
                    "execution_count": 2,
                    "data": {
                        "application/vnd.dataresource+json": {
                            "schema": {
                                "fields": [
                                    {
                                        "name": "SourceServer"
                                    },
                                    {
                                        "name": "TestServer"
                                    },
                                    {
                                        "name": "Database"
                                    },
                                    {
                                        "name": "FileExists"
                                    },
                                    {
                                        "name": "Size"
                                    },
                                    {
                                        "name": "RestoreResult"
                                    },
                                    {
                                        "name": "DbccResult"
                                    },
                                    {
                                        "name": "RestoreStart"
                                    },
                                    {
                                        "name": "RestoreEnd"
                                    },
                                    {
                                        "name": "RestoreElapsed"
                                    },
                                    {
                                        "name": "DbccStart"
                                    },
                                    {
                                        "name": "DbccEnd"
                                    },
                                    {
                                        "name": "DbccElapsed"
                                    },
                                    {
                                        "name": "BackupDates"
                                    },
                                    {
                                        "name": "BackupFiles"
                                    }
                                ]
                            },
                            "data": [
                                {
                                    "0": "mssql1",
                                    "1": "mssql2",
                                    "2": "AdventureWorks2017",
                                    "3": "1",
                                    "4": "216092672",
                                    "5": "Success",
                                    "6": "Success",
                                    "7": "2019-09-30 06:30:17.442",
                                    "8": "2019-09-30 06:30:22.325",
                                    "9": "00:00:04",
                                    "10": "2019-09-30 06:30:22.485",
                                    "11": "2019-09-30 06:30:30.812",
                                    "12": "00:00:08",
                                    "13": "09/30/2019 08:54:24",
                                    "14": "/var/opt/backups/AdventureWorks2017.bak"
                                },
                                {
                                    "0": "mssql1",
                                    "1": "mssql2",
                                    "2": "DatabaseAdmin",
                                    "3": "1",
                                    "4": "2904064",
                                    "5": "Success",
                                    "6": "Success",
                                    "7": "2019-09-30 06:30:33.131",
                                    "8": "2019-09-30 06:30:36.394",
                                    "9": "00:00:03",
                                    "10": "2019-09-30 06:30:36.621",
                                    "11": "2019-09-30 06:30:37.363",
                                    "12": "00:00:00",
                                    "13": "09/30/2019 10:30:10",
                                    "14": "C:\\var\\opt\\backups\\DatabaseAdmin_201909300630.bak"
                                }
                            ]
                        },
                        "text/html": "<table><tr><th>SourceServer</th><th>TestServer</th><th>Database</th><th>FileExists</th><th>Size</th><th>RestoreResult</th><th>DbccResult</th><th>RestoreStart</th><th>RestoreEnd</th><th>RestoreElapsed</th><th>DbccStart</th><th>DbccEnd</th><th>DbccElapsed</th><th>BackupDates</th><th>BackupFiles</th></tr><tr><td>mssql1</td><td>mssql2</td><td>AdventureWorks2017</td><td>1</td><td>216092672</td><td>Success</td><td>Success</td><td>2019-09-30 06:30:17.442</td><td>2019-09-30 06:30:22.325</td><td>00:00:04</td><td>2019-09-30 06:30:22.485</td><td>2019-09-30 06:30:30.812</td><td>00:00:08</td><td>09/30/2019 08:54:24</td><td>/var/opt/backups/AdventureWorks2017.bak</td></tr><tr><td>mssql1</td><td>mssql2</td><td>DatabaseAdmin</td><td>1</td><td>2904064</td><td>Success</td><td>Success</td><td>2019-09-30 06:30:33.131</td><td>2019-09-30 06:30:36.394</td><td>00:00:03</td><td>2019-09-30 06:30:36.621</td><td>2019-09-30 06:30:37.363</td><td>00:00:00</td><td>09/30/2019 10:30:10</td><td>C:\\var\\opt\\backups\\DatabaseAdmin_201909300630.bak</td></tr></table>"
                    }
                }
            ],
            "execution_count": 2
        },
        {
            "cell_type": "markdown",
            "source": [
                "You can do this daily/weekly/etc. and build up history\r\n",
                ""
            ],
            "metadata": {
                "azdata_cell_guid": "19f541a3-af44-405a-9c06-43aeea709ab9"
            }
        },
        {
            "cell_type": "code",
            "source": [
                "Use DatabaseAdmin\n",
                "\n",
                "Select *\n",
                "From TestRestore"
            ],
            "metadata": {
                "azdata_cell_guid": "d745cb4b-766a-40a5-9e57-703420e33b7b"
            },
            "outputs": [
{
    "output_type": "display_data",
    "data": {
        "text/html": "Commands completed successfully."
    },
    "metadata": {}
}, {
    "output_type": "display_data",
    "data": {
        "text/html": "Total execution time: 00:00:00.042"
    },
    "metadata": {}
}, {
    "output_type": "execute_result",
    "metadata": {},
    "execution_count": 3,
    "data": {
        "application/vnd.dataresource+json": {
            "schema": {
                "fields": [
                    {
                        "name": "SourceServer"
                    },
                    {
                        "name": "TestServer"
                    },
                    {
                        "name": "Database"
                    },
                    {
                        "name": "FileExists"
                    },
                    {
                        "name": "Size"
                    },
                    {
                        "name": "RestoreResult"
                    },
                    {
                        "name": "DbccResult"
                    },
                    {
                        "name": "RestoreStart"
                    },
                    {
                        "name": "RestoreEnd"
                    },
                    {
                        "name": "RestoreElapsed"
                    },
                    {
                        "name": "DbccStart"
                    },
                    {
                        "name": "DbccEnd"
                    },
                    {
                        "name": "DbccElapsed"
                    },
                    {
                        "name": "BackupDates"
                    },
                    {
                        "name": "BackupFiles"
                    }
                ]
            },
            "data": [
                {
                    "0": "mssql1",
                    "1": "mssql2",
                    "2": "AdventureWorks2017",
                    "3": "1",
                    "4": "216092672",
                    "5": "Success",
                    "6": "Success",
                    "7": "2019-09-30 06:30:17.442",
                    "8": "2019-09-30 06:30:22.325",
                    "9": "00:00:04",
                    "10": "2019-09-30 06:30:22.485",
                    "11": "2019-09-30 06:30:30.812",
                    "12": "00:00:08",
                    "13": "09/30/2019 08:54:24",
                    "14": "/var/opt/backups/AdventureWorks2017.bak"
                },
                {
                    "0": "mssql1",
                    "1": "mssql2",
                    "2": "DatabaseAdmin",
                    "3": "1",
                    "4": "2904064",
                    "5": "Success",
                    "6": "Success",
                    "7": "2019-09-30 06:30:33.131",
                    "8": "2019-09-30 06:30:36.394",
                    "9": "00:00:03",
                    "10": "2019-09-30 06:30:36.621",
                    "11": "2019-09-30 06:30:37.363",
                    "12": "00:00:00",
                    "13": "09/30/2019 10:30:10",
                    "14": "C:\\var\\opt\\backups\\DatabaseAdmin_201909300630.bak"
                },
                {
                    "0": "mssql1",
                    "1": "mssql2",
                    "2": "AdventureWorks2017",
                    "3": "1",
                    "4": "216092672",
                    "5": "Success",
                    "6": "Success",
                    "7": "2019-09-30 06:35:01.772",
                    "8": "2019-09-30 06:35:05.455",
                    "9": "00:00:03",
                    "10": "2019-09-30 06:35:05.589",
                    "11": "2019-09-30 06:35:11.738",
                    "12": "00:00:06",
                    "13": "09/30/2019 08:54:24",
                    "14": "/var/opt/backups/AdventureWorks2017.bak"
                },
                {
                    "0": "mssql1",
                    "1": "mssql2",
                    "2": "DatabaseAdmin",
                    "3": "1",
                    "4": "2904064",
                    "5": "Success",
                    "6": "Success",
                    "7": "2019-09-30 06:35:13.558",
                    "8": "2019-09-30 06:35:16.754",
                    "9": "00:00:03",
                    "10": "2019-09-30 06:35:16.929",
                    "11": "2019-09-30 06:35:17.767",
                    "12": "00:00:00",
                    "13": "09/30/2019 10:30:10",
                    "14": "C:\\var\\opt\\backups\\DatabaseAdmin_201909300630.bak"
                }
            ]
        },
        "text/html": "<table><tr><th>SourceServer</th><th>TestServer</th><th>Database</th><th>FileExists</th><th>Size</th><th>RestoreResult</th><th>DbccResult</th><th>RestoreStart</th><th>RestoreEnd</th><th>RestoreElapsed</th><th>DbccStart</th><th>DbccEnd</th><th>DbccElapsed</th><th>BackupDates</th><th>BackupFiles</th></tr><tr><td>mssql1</td><td>mssql2</td><td>AdventureWorks2017</td><td>1</td><td>216092672</td><td>Success</td><td>Success</td><td>2019-09-30 06:30:17.442</td><td>2019-09-30 06:30:22.325</td><td>00:00:04</td><td>2019-09-30 06:30:22.485</td><td>2019-09-30 06:30:30.812</td><td>00:00:08</td><td>09/30/2019 08:54:24</td><td>/var/opt/backups/AdventureWorks2017.bak</td></tr><tr><td>mssql1</td><td>mssql2</td><td>DatabaseAdmin</td><td>1</td><td>2904064</td><td>Success</td><td>Success</td><td>2019-09-30 06:30:33.131</td><td>2019-09-30 06:30:36.394</td><td>00:00:03</td><td>2019-09-30 06:30:36.621</td><td>2019-09-30 06:30:37.363</td><td>00:00:00</td><td>09/30/2019 10:30:10</td><td>C:\\var\\opt\\backups\\DatabaseAdmin_201909300630.bak</td></tr><tr><td>mssql1</td><td>mssql2</td><td>AdventureWorks2017</td><td>1</td><td>216092672</td><td>Success</td><td>Success</td><td>2019-09-30 06:35:01.772</td><td>2019-09-30 06:35:05.455</td><td>00:00:03</td><td>2019-09-30 06:35:05.589</td><td>2019-09-30 06:35:11.738</td><td>00:00:06</td><td>09/30/2019 08:54:24</td><td>/var/opt/backups/AdventureWorks2017.bak</td></tr><tr><td>mssql1</td><td>mssql2</td><td>DatabaseAdmin</td><td>1</td><td>2904064</td><td>Success</td><td>Success</td><td>2019-09-30 06:35:13.558</td><td>2019-09-30 06:35:16.754</td><td>00:00:03</td><td>2019-09-30 06:35:16.929</td><td>2019-09-30 06:35:17.767</td><td>00:00:00</td><td>09/30/2019 10:30:10</td><td>C:\\var\\opt\\backups\\DatabaseAdmin_201909300630.bak</td></tr></table>"
    }
}
],
            "execution_count": 3
        }
    ]
}